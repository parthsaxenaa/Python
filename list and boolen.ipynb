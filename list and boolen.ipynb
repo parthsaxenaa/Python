{
 "cells": [
  {
   "cell_type": "markdown",
   "id": "2fff50eb",
   "metadata": {},
   "source": [
    "# Python Data Structures and Boolean\n",
    "* Boolean\n",
    "* Boolean and Logical Operators\n",
    "* Lists\n",
    "* Comparison operators\n",
    "* Dictionaries\n",
    "* Tuples\n",
    "* Sets\n",
    "# Boolean Variables\n",
    "Boolean values are the two constant objects False and True.\n",
    "\n",
    "They are used to represent truth values (other values can also be considered false or true).\n",
    "\n",
    "In numeric contexts (for example, when used as the argument to an arithmetic operator), they behave like the integers 0 and 1, respectively.\n",
    "\n",
    "The built-in function bool() can be used to cast any value to a Boolean, if the value can be interpreted as a truth value\n",
    "\n",
    "They are written as False and True, respectively."
   ]
  },
  {
   "cell_type": "code",
   "execution_count": null,
   "id": "527bdef0",
   "metadata": {},
   "outputs": [],
   "source": [
    "my_str='parth saxena'"
   ]
  },
  {
   "cell_type": "code",
   "execution_count": 3,
   "id": "dea76371",
   "metadata": {},
   "outputs": [
    {
     "name": "stdout",
     "output_type": "stream",
     "text": [
      "False\n"
     ]
    },
    {
     "data": {
      "text/plain": [
       "NoneType"
      ]
     },
     "execution_count": 3,
     "metadata": {},
     "output_type": "execute_result"
    }
   ],
   "source": [
    "type(print(my_str.isalnum()))"
   ]
  },
  {
   "cell_type": "markdown",
   "id": "1130d9ca",
   "metadata": {},
   "source": [
    "# Lists\n",
    "A list is a data structure in Python that is a mutable, or changeable, ordered sequence of elements. Each element or value that is inside of a list is called an item. Just as strings are defined as characters between quotes, lists are defined by having values between square brackets [ ]"
   ]
  },
  {
   "cell_type": "code",
   "execution_count": 1,
   "id": "e2f35df4",
   "metadata": {},
   "outputs": [
    {
     "data": {
      "text/plain": [
       "list"
      ]
     },
     "execution_count": 1,
     "metadata": {},
     "output_type": "execute_result"
    }
   ],
   "source": [
    "type([])"
   ]
  },
  {
   "cell_type": "code",
   "execution_count": 3,
   "id": "5db2e785",
   "metadata": {},
   "outputs": [],
   "source": [
    "lets=[]"
   ]
  },
  {
   "cell_type": "code",
   "execution_count": 4,
   "id": "c6220ce4",
   "metadata": {},
   "outputs": [
    {
     "data": {
      "text/plain": [
       "list"
      ]
     },
     "execution_count": 4,
     "metadata": {},
     "output_type": "execute_result"
    }
   ],
   "source": [
    "type(lets)"
   ]
  },
  {
   "cell_type": "code",
   "execution_count": 6,
   "id": "c94125d0",
   "metadata": {},
   "outputs": [],
   "source": [
    "lst=list()"
   ]
  },
  {
   "cell_type": "code",
   "execution_count": 7,
   "id": "c54d2212",
   "metadata": {},
   "outputs": [
    {
     "data": {
      "text/plain": [
       "list"
      ]
     },
     "execution_count": 7,
     "metadata": {},
     "output_type": "execute_result"
    }
   ],
   "source": [
    "type(lst)"
   ]
  },
  {
   "cell_type": "code",
   "execution_count": 8,
   "id": "e0b1b3da",
   "metadata": {},
   "outputs": [],
   "source": [
    "lst=['maths','chem',100,200]"
   ]
  },
  {
   "cell_type": "code",
   "execution_count": 9,
   "id": "f76e1f10",
   "metadata": {},
   "outputs": [
    {
     "data": {
      "text/plain": [
       "4"
      ]
     },
     "execution_count": 9,
     "metadata": {},
     "output_type": "execute_result"
    }
   ],
   "source": [
    "len(lst)"
   ]
  },
  {
   "cell_type": "markdown",
   "id": "decb64f0",
   "metadata": {},
   "source": [
    "# append"
   ]
  },
  {
   "cell_type": "code",
   "execution_count": 10,
   "id": "0263fc7a",
   "metadata": {},
   "outputs": [],
   "source": [
    "#.append used to add elt in a list\n",
    "lst.append('parth')"
   ]
  },
  {
   "cell_type": "code",
   "execution_count": 11,
   "id": "e72a96e6",
   "metadata": {},
   "outputs": [
    {
     "data": {
      "text/plain": [
       "['maths', 'chem', 100, 200, 'parth']"
      ]
     },
     "execution_count": 11,
     "metadata": {},
     "output_type": "execute_result"
    }
   ],
   "source": [
    "lst"
   ]
  },
  {
   "cell_type": "code",
   "execution_count": 17,
   "id": "36954c89",
   "metadata": {},
   "outputs": [
    {
     "data": {
      "text/plain": [
       "'phy'"
      ]
     },
     "execution_count": 17,
     "metadata": {},
     "output_type": "execute_result"
    }
   ],
   "source": [
    "#indexing\n",
    "lst[2]"
   ]
  },
  {
   "cell_type": "code",
   "execution_count": 18,
   "id": "20bb3ccd",
   "metadata": {},
   "outputs": [
    {
     "data": {
      "text/plain": [
       "['maths', 'chem', 'phy', 100, 200, 'parth']"
      ]
     },
     "execution_count": 18,
     "metadata": {},
     "output_type": "execute_result"
    }
   ],
   "source": [
    "lst[:]"
   ]
  },
  {
   "cell_type": "code",
   "execution_count": 19,
   "id": "64344463",
   "metadata": {},
   "outputs": [
    {
     "data": {
      "text/plain": [
       "['chem', 'phy', 100]"
      ]
     },
     "execution_count": 19,
     "metadata": {},
     "output_type": "execute_result"
    }
   ],
   "source": [
    "lst[1:4]"
   ]
  },
  {
   "cell_type": "markdown",
   "id": "38274650",
   "metadata": {},
   "source": [
    "# insert"
   ]
  },
  {
   "cell_type": "code",
   "execution_count": 15,
   "id": "15b233b3",
   "metadata": {},
   "outputs": [],
   "source": [
    "#inser in specific order\n",
    "lst.insert(2,'phy')"
   ]
  },
  {
   "cell_type": "code",
   "execution_count": 16,
   "id": "4b44b065",
   "metadata": {},
   "outputs": [
    {
     "data": {
      "text/plain": [
       "['maths', 'chem', 'phy', 100, 200, 'parth']"
      ]
     },
     "execution_count": 16,
     "metadata": {},
     "output_type": "execute_result"
    }
   ],
   "source": [
    "lst"
   ]
  },
  {
   "cell_type": "markdown",
   "id": "ba2eb3d9",
   "metadata": {},
   "source": [
    "# extend method"
   ]
  },
  {
   "cell_type": "code",
   "execution_count": 20,
   "id": "cdd2ba66",
   "metadata": {},
   "outputs": [],
   "source": [
    "nts=[1,2,3,4]"
   ]
  },
  {
   "cell_type": "code",
   "execution_count": 22,
   "id": "2f554321",
   "metadata": {},
   "outputs": [],
   "source": [
    "nts.extend({6,7})"
   ]
  },
  {
   "cell_type": "code",
   "execution_count": 23,
   "id": "affc5cba",
   "metadata": {},
   "outputs": [
    {
     "data": {
      "text/plain": [
       "[1, 2, 3, 4, 6, 7]"
      ]
     },
     "execution_count": 23,
     "metadata": {},
     "output_type": "execute_result"
    }
   ],
   "source": [
    "nts"
   ]
  },
  {
   "cell_type": "markdown",
   "id": "9ddd1535",
   "metadata": {},
   "source": [
    "# various operation"
   ]
  },
  {
   "cell_type": "code",
   "execution_count": 24,
   "id": "d8ff36e6",
   "metadata": {},
   "outputs": [
    {
     "data": {
      "text/plain": [
       "23"
      ]
     },
     "execution_count": 24,
     "metadata": {},
     "output_type": "execute_result"
    }
   ],
   "source": [
    "sum(nts)"
   ]
  },
  {
   "cell_type": "code",
   "execution_count": 26,
   "id": "5cb109cf",
   "metadata": {},
   "outputs": [
    {
     "data": {
      "text/plain": [
       "7"
      ]
     },
     "execution_count": 26,
     "metadata": {},
     "output_type": "execute_result"
    }
   ],
   "source": [
    "nts.pop() #when we are not giving index it by default remove lasr elt"
   ]
  },
  {
   "cell_type": "code",
   "execution_count": 27,
   "id": "ce0a434f",
   "metadata": {},
   "outputs": [
    {
     "data": {
      "text/plain": [
       "[1, 2, 3, 4, 6]"
      ]
     },
     "execution_count": 27,
     "metadata": {},
     "output_type": "execute_result"
    }
   ],
   "source": [
    "nts"
   ]
  },
  {
   "cell_type": "code",
   "execution_count": 29,
   "id": "3c49bdd4",
   "metadata": {},
   "outputs": [
    {
     "data": {
      "text/plain": [
       "1"
      ]
     },
     "execution_count": 29,
     "metadata": {},
     "output_type": "execute_result"
    }
   ],
   "source": [
    "min(nts)"
   ]
  },
  {
   "cell_type": "code",
   "execution_count": 30,
   "id": "0baccc5f",
   "metadata": {},
   "outputs": [
    {
     "data": {
      "text/plain": [
       "6"
      ]
     },
     "execution_count": 30,
     "metadata": {},
     "output_type": "execute_result"
    }
   ],
   "source": [
    "max(nts)"
   ]
  },
  {
   "cell_type": "code",
   "execution_count": 31,
   "id": "ce8f3ceb",
   "metadata": {},
   "outputs": [
    {
     "data": {
      "text/plain": [
       "[1, 2, 3, 4, 6, 1, 2, 3, 4, 6]"
      ]
     },
     "execution_count": 31,
     "metadata": {},
     "output_type": "execute_result"
    }
   ],
   "source": [
    "nts*2"
   ]
  },
  {
   "cell_type": "code",
   "execution_count": null,
   "id": "0d60e53d",
   "metadata": {},
   "outputs": [],
   "source": []
  }
 ],
 "metadata": {
  "kernelspec": {
   "display_name": "Python 3 (ipykernel)",
   "language": "python",
   "name": "python3"
  },
  "language_info": {
   "codemirror_mode": {
    "name": "ipython",
    "version": 3
   },
   "file_extension": ".py",
   "mimetype": "text/x-python",
   "name": "python",
   "nbconvert_exporter": "python",
   "pygments_lexer": "ipython3",
   "version": "3.10.9"
  }
 },
 "nbformat": 4,
 "nbformat_minor": 5
}
